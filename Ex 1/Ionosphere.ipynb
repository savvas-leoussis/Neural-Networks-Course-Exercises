{
 "cells": [
  {
   "cell_type": "markdown",
   "metadata": {},
   "source": [
    "# Στοιχεία Ομάδας"
   ]
  },
  {
   "cell_type": "markdown",
   "metadata": {},
   "source": [
    "##### Ομάδα Β26\n",
    "\n",
    "Λεούσης Σάββας Α.M.:03114945\n",
    "\n",
    "Ζαραβίνος Γεώργιος A.M.:03114158"
   ]
  },
  {
   "cell_type": "markdown",
   "metadata": {},
   "source": [
    "# Εισαγωγή του Ionosphere Data Set"
   ]
  },
  {
   "cell_type": "markdown",
   "metadata": {},
   "source": [
    "![title](http://archive.ics.uci.edu/ml/assets/MLimages/Large52.jpg)\n",
    "\n",
    "Αυτά τα δεδομένα ραντάρ συλλέχθηκαν από ένα σύστημα στο Goose Bay, Labrador. Το σύστημα αυτό αποτελείται από μια σταδιακή σειρά από 16 κεραίες υψηλής συχνότητας με συνολική ισχύ εκπομπής της τάξεως των 6,4 κιλοβάτ. Οι στόχοι ήταν ελεύθερα ηλεκτρόνια στην ιονόσφαιρα. Οι \"good\" επιστροφές ραντάρ είναι εκείνες που δείχνουν ενδείξεις κάποιου τύπου δομής στην ιονόσφαιρα. Οι \"bad\" επιστροφές είναι αυτές που δεν το κάνουν καθώς τα σήματα τους περνούν μέσα από την ιονόσφαιρα.\n",
    "\n",
    "Τα ληφθέντα σήματα υποβλήθηκαν σε επεξεργασία χρησιμοποιώντας μια συνάρτηση αυτοσυσχέτισης της οποίας ορίσματα είναι ο χρόνος ενός παλμού και ο αριθμός παλμών. Υπήρχαν 17 αριθμοί παλμών για το σύστημα Goose Bay. Οι περιπτώσεις σε αυτήν τη βάση δεδομένων περιγράφονται με 2 ιδιότητες ανά αριθμό παλμών, που αντιστοιχούν στις πολύπλοκες τιμές που επιστρέφονται από τη συνάρτηση που προκύπτει από το σύνθετο ηλεκτρομαγνητικό σήμα."
   ]
  },
  {
   "cell_type": "markdown",
   "metadata": {},
   "source": [
    "Αριθμός Δειγμάτων : 351\n",
    "\n",
    "Αριθμός Χαρακτηριστικών : 34\n",
    "\n",
    "Είδος Χαρακτηριστικών : Ακέραιοι, Πραγματικοί\n",
    "\n",
    "Υπάρχουν μη διατεταγμένα στοιχεία; Όχι\n",
    "\n",
    "Υπάρχουν επικεφαλίδες; Όχι\n",
    "\n",
    "Υπάρχουν αριθμίσεις γραμμών; Όχι\n",
    "\n",
    "Ετικέτες κλάσεων: 'g' για 'good', 'b' για 'bad'\n",
    "\n",
    "Κολώνα (Column) Ετικετών : 35\n",
    "\n",
    "Χρειάστηκε μετατροπή του αρχείου; Όχι\n",
    "\n",
    "Υπάρχουν απουσιάζουσες τιμές; Όχι\n",
    "\n",
    "Αριθμός κλάσεων : 2 (64% 'g', 36% 'b') \"Μη ισορροπημένο (Imbalanced)\""
   ]
  },
  {
   "cell_type": "markdown",
   "metadata": {},
   "source": [
    "# Data Insertion"
   ]
  },
  {
   "cell_type": "code",
   "execution_count": 1,
   "metadata": {},
   "outputs": [
    {
     "name": "stdout",
     "output_type": "stream",
     "text": [
      "Requirement already up-to-date: imbalanced-learn in /gpfs/global_fs01/sym_shared/YPProdSpark/user/s08a-9082e10dd730b1-6f702ff6845a/.local/lib/python2.7/site-packages\n",
      "Requirement already up-to-date: scikit-learn in /gpfs/global_fs01/sym_shared/YPProdSpark/user/s08a-9082e10dd730b1-6f702ff6845a/.local/lib/python2.7/site-packages (from imbalanced-learn)\n",
      "Requirement already up-to-date: numpy in /gpfs/global_fs01/sym_shared/YPProdSpark/user/s08a-9082e10dd730b1-6f702ff6845a/.local/lib/python2.7/site-packages (from imbalanced-learn)\n",
      "Requirement already up-to-date: scipy in /gpfs/global_fs01/sym_shared/YPProdSpark/user/s08a-9082e10dd730b1-6f702ff6845a/.local/lib/python2.7/site-packages (from imbalanced-learn)\n"
     ]
    }
   ],
   "source": [
    "from io import StringIO\n",
    "import requests\n",
    "import json\n",
    "import pandas as pd\n",
    "import numpy as np\n",
    "import sklearn\n",
    "from sklearn.model_selection import train_test_split\n",
    "from sklearn.feature_selection import VarianceThreshold\n",
    "from sklearn import preprocessing\n",
    "from sklearn.dummy import DummyClassifier\n",
    "from sklearn.metrics import f1_score\n",
    "from sklearn.metrics import confusion_matrix\n",
    "from sklearn.metrics import classification_report\n",
    "from sklearn.neural_network import MLPClassifier\n",
    "from sklearn.model_selection import cross_val_score\n",
    "from sklearn.preprocessing import MultiLabelBinarizer\n",
    "import matplotlib.pyplot as plt\n",
    "import timeit\n",
    "!pip install --upgrade imbalanced-learn\n",
    "from imblearn.over_sampling import RandomOverSampler"
   ]
  },
  {
   "cell_type": "code",
   "execution_count": 2,
   "metadata": {},
   "outputs": [],
   "source": [
    "def get_object_storage_file_with_credentials_9e289a694b4e4211947aea77a54e113a(container, filename):\n",
    "    \"\"\"This functions returns a StringIO object containing\n",
    "    the file content from Bluemix Object Storage.\"\"\"\n",
    "\n",
    "    url1 = ''.join(['https://identity.open.softlayer.com', '/v3/auth/tokens'])\n",
    "    data = {'auth': {'identity': {'methods': ['password'],\n",
    "            'password': {'user': {'name': 'member_9acbb12bae2d5d4b4c578bba89be1bfee163f0b6','domain': {'id': '83cffb9693bb429285dec914567206dd'},\n",
    "            'password': 'kn]^thM5vAsWk2gc'}}}}}\n",
    "    headers1 = {'Content-Type': 'application/json'}\n",
    "    resp1 = requests.post(url=url1, data=json.dumps(data), headers=headers1)\n",
    "    resp1_body = resp1.json()\n",
    "    for e1 in resp1_body['token']['catalog']:\n",
    "        if(e1['type']=='object-store'):\n",
    "            for e2 in e1['endpoints']:\n",
    "                        if(e2['interface']=='public'and e2['region']=='dallas'):\n",
    "                            url2 = ''.join([e2['url'],'/', container, '/', filename])\n",
    "    s_subject_token = resp1.headers['x-subject-token']\n",
    "    headers2 = {'X-Auth-Token': s_subject_token, 'accept': 'application/json'}\n",
    "    resp2 = requests.get(url=url2, headers=headers2)\n",
    "    return StringIO(resp2.text)\n",
    "data = get_object_storage_file_with_credentials_9e289a694b4e4211947aea77a54e113a('DefaultProjectsavvasleoussisgmailcom', 'ionosphere.data')"
   ]
  },
  {
   "cell_type": "code",
   "execution_count": 3,
   "metadata": {},
   "outputs": [],
   "source": [
    "data_df = pd.read_csv(data, header=None)"
   ]
  },
  {
   "cell_type": "code",
   "execution_count": 4,
   "metadata": {},
   "outputs": [],
   "source": [
    "labels_df = data_df.iloc[:,34]\n",
    "features_df = data_df.iloc[:,0:34]"
   ]
  },
  {
   "cell_type": "code",
   "execution_count": 5,
   "metadata": {},
   "outputs": [],
   "source": [
    "np_labels = labels_df.values\n",
    "np_features = features_df.values"
   ]
  },
  {
   "cell_type": "code",
   "execution_count": 6,
   "metadata": {},
   "outputs": [
    {
     "name": "stdout",
     "output_type": "stream",
     "text": [
      "Dataset Balance (\"g\") ≈ 64 %\n",
      "Dataset Balance (\"b\") ≈ 36 %\n"
     ]
    }
   ],
   "source": [
    "train, test, train_labels, test_labels = train_test_split(np_features, np_labels, test_size=0.20)\n",
    "sum = 0\n",
    "for i in range(0,np_labels.size):\n",
    "    if (np_labels[i]=='g'):\n",
    "        sum+=1\n",
    "print 'Dataset Balance (\"g\") ≈',sum*100/np_labels.size,'%'\n",
    "print 'Dataset Balance (\"b\") ≈',100-sum*100/np_labels.size,'%'"
   ]
  },
  {
   "cell_type": "markdown",
   "metadata": {},
   "source": [
    "# Data Preprocessing"
   ]
  },
  {
   "cell_type": "markdown",
   "metadata": {},
   "source": [
    "## Μείωση διαστάσεων εισόδου με επιλογή χαρακτηριστικών"
   ]
  },
  {
   "cell_type": "code",
   "execution_count": 7,
   "metadata": {},
   "outputs": [],
   "source": [
    "# αρχικοποιούμε έναν selector\n",
    "selector = VarianceThreshold()\n",
    "# όπως κάναμε και με τους ταξινομητές τον κάνουμε fit στα δεδομένα εκπαίδευσης\n",
    "train_reduced = selector.fit_transform(train)\n",
    "mask = selector.get_support()\n",
    "test_reduced = test[:,mask]"
   ]
  },
  {
   "cell_type": "code",
   "execution_count": 8,
   "metadata": {},
   "outputs": [
    {
     "name": "stdout",
     "output_type": "stream",
     "text": [
      "(280, 33)\n",
      "(280, 34)\n",
      "(71, 33)\n",
      "(71, 34)\n"
     ]
    }
   ],
   "source": [
    "selector = VarianceThreshold()\n",
    "train_reduced = selector.fit_transform(train)\n",
    "mask = selector.get_support()\n",
    "test_reduced = test[:,mask]\n",
    "\n",
    "print train_reduced.shape\n",
    "print train.shape\n",
    "print test_reduced.shape\n",
    "print test.shape"
   ]
  },
  {
   "cell_type": "markdown",
   "metadata": {},
   "source": [
    "## Κανονικοποίηση χαρακτηριστικών"
   ]
  },
  {
   "cell_type": "code",
   "execution_count": 9,
   "metadata": {},
   "outputs": [
    {
     "name": "stdout",
     "output_type": "stream",
     "text": [
      "(280, 33)\n"
     ]
    }
   ],
   "source": [
    "scaler = preprocessing.StandardScaler().fit(train_reduced)\n",
    "train_scaled = scaler.transform(train_reduced)\n",
    "test_scaled = scaler.transform(test_reduced)\n",
    "print train_scaled.shape"
   ]
  },
  {
   "cell_type": "markdown",
   "metadata": {},
   "source": [
    "## Εξισορρόπηση μη ισορροπημένου dataset"
   ]
  },
  {
   "cell_type": "code",
   "execution_count": 10,
   "metadata": {},
   "outputs": [
    {
     "name": "stdout",
     "output_type": "stream",
     "text": [
      "(356, 33)\n",
      "(356,)\n",
      "Dataset New Balance (\"g\") ≈ 50 %\n",
      "Dataset New Balance (\"b\") ≈ 50 %\n"
     ]
    }
   ],
   "source": [
    "ros = RandomOverSampler(random_state=0)\n",
    "train_resampled, train_labels_resampled = ros.fit_sample(train_scaled,train_labels)\n",
    "print train_resampled.shape\n",
    "print train_labels_resampled.shape\n",
    "sum = 0\n",
    "for i in range(0,train_labels_resampled.size):\n",
    "    if (train_labels_resampled[i]=='g'):\n",
    "        sum+=1\n",
    "print 'Dataset New Balance (\"g\") ≈',sum*100/train_labels_resampled.size,'%'\n",
    "print 'Dataset New Balance (\"b\") ≈',100-sum*100/train_labels_resampled.size,'%'"
   ]
  },
  {
   "cell_type": "markdown",
   "metadata": {},
   "source": [
    "# Dummy Classifiers"
   ]
  },
  {
   "cell_type": "code",
   "execution_count": 11,
   "metadata": {},
   "outputs": [],
   "source": [
    "dc_uniform = DummyClassifier(strategy=\"uniform\")\n",
    "dc_constant_0 = DummyClassifier(strategy=\"constant\", constant='b')\n",
    "dc_constant_1 = DummyClassifier(strategy=\"constant\", constant='g')\n",
    "dc_most_frequent = DummyClassifier(strategy=\"most_frequent\")\n",
    "dc_stratified = DummyClassifier(strategy=\"stratified\")"
   ]
  },
  {
   "cell_type": "code",
   "execution_count": 12,
   "metadata": {},
   "outputs": [
    {
     "name": "stdout",
     "output_type": "stream",
     "text": [
      "~~~uniform (random)\n",
      "             precision    recall  f1-score   support\n",
      "\n",
      "          b       0.35      0.46      0.40        24\n",
      "          g       0.68      0.57      0.62        47\n",
      "\n",
      "avg / total       0.57      0.54      0.55        71\n",
      "\n",
      "~~~constant 0\n",
      "             precision    recall  f1-score   support\n",
      "\n",
      "          b       0.34      1.00      0.51        24\n",
      "          g       0.00      0.00      0.00        47\n",
      "\n",
      "avg / total       0.11      0.34      0.17        71\n",
      "\n",
      "~~~constant 1\n",
      "             precision    recall  f1-score   support\n",
      "\n",
      "          b       0.00      0.00      0.00        24\n",
      "          g       0.66      1.00      0.80        47\n",
      "\n",
      "avg / total       0.44      0.66      0.53        71\n",
      "\n",
      "~~~most frequent label\n",
      "             precision    recall  f1-score   support\n",
      "\n",
      "          b       0.34      1.00      0.51        24\n",
      "          g       0.00      0.00      0.00        47\n",
      "\n",
      "avg / total       0.11      0.34      0.17        71\n",
      "\n",
      "~~~stratified\n",
      "             precision    recall  f1-score   support\n",
      "\n",
      "          b       0.37      0.54      0.44        24\n",
      "          g       0.69      0.53      0.60        47\n",
      "\n",
      "avg / total       0.59      0.54      0.55        71\n",
      "\n",
      "F1 Macro Scores on the Ionosphere Dataset (20% test set)\n",
      "\n",
      "stratified: 0.521543802328\n",
      "uniform (random): 0.510344827586\n",
      "constant 1: 0.398305084746\n",
      "constant 0: 0.252631578947\n",
      "most frequent label: 0.252631578947\n",
      "\n",
      "\n",
      "F1 Weighted Scores on the Ionosphere Dataset (20% test set)\n",
      "\n",
      "stratified: 0.547739777444\n",
      "uniform (random): 0.546090335114\n",
      "constant 1: 0.52733349248\n",
      "constant 0: 0.170793180133\n",
      "most frequent label: 0.170793180133\n",
      "\n",
      "\n",
      "Confusion Matrixes on the Ionosphere Dataset (20% test set)\n",
      "\n",
      "most frequent label \n",
      "\n",
      "[[24  0]\n",
      " [47  0]] \n",
      "\n",
      "stratified \n",
      "\n",
      "[[13 11]\n",
      " [22 25]] \n",
      "\n",
      "constant 0 \n",
      "\n",
      "[[24  0]\n",
      " [47  0]] \n",
      "\n",
      "uniform (random) \n",
      "\n",
      "[[11 13]\n",
      " [20 27]] \n",
      "\n",
      "constant 1 \n",
      "\n",
      "[[ 0 24]\n",
      " [ 0 47]] \n",
      "\n",
      "Running Time Of Dummy Classifiers on the Ionosphere Dataset (20% test set)\n",
      "\n",
      "constant 1: 0.00522589683533 secs\n",
      "stratified: 0.00487589836121 secs\n",
      "uniform (random): 0.00483417510986 secs\n",
      "constant 0: 0.00469207763672 secs\n",
      "most frequent label: 0.00339484214783 secs\n",
      "\n",
      "\n"
     ]
    },
    {
     "name": "stderr",
     "output_type": "stream",
     "text": [
      "/gpfs/fs01/user/s08a-9082e10dd730b1-6f702ff6845a/.local/lib/python2.7/site-packages/sklearn/metrics/classification.py:1135: UndefinedMetricWarning: F-score is ill-defined and being set to 0.0 in labels with no predicted samples.\n",
      "  'precision', 'predicted', average, warn_for)\n",
      "/gpfs/fs01/user/s08a-9082e10dd730b1-6f702ff6845a/.local/lib/python2.7/site-packages/sklearn/metrics/classification.py:1135: UndefinedMetricWarning: Precision and F-score are ill-defined and being set to 0.0 in labels with no predicted samples.\n",
      "  'precision', 'predicted', average, warn_for)\n"
     ]
    }
   ],
   "source": [
    "ion_macro = {}\n",
    "ion_weighted = {}\n",
    "ion_conf = {}\n",
    "ion_time = {}\n",
    "start = timeit.default_timer()\n",
    "model = dc_uniform.fit(train_resampled, train_labels_resampled)\n",
    "preds = dc_uniform.predict(test_scaled)\n",
    "ion_macro['uniform (random)'] = f1_score(test_labels, preds, average='macro')\n",
    "ion_weighted['uniform (random)'] = f1_score(test_labels, preds, average='weighted')\n",
    "ion_conf['uniform (random)'] = confusion_matrix(test_labels, preds)\n",
    "print \"~~~uniform (random)\"\n",
    "print classification_report(test_labels, preds)\n",
    "stop = timeit.default_timer()\n",
    "ion_time['uniform (random)']=stop - start \n",
    "start = timeit.default_timer()\n",
    "model = dc_constant_0.fit(train_resampled, train_labels_resampled)\n",
    "preds = dc_constant_0.predict(test_scaled)\n",
    "ion_macro['constant 0'] = f1_score(test_labels, preds, average='macro')\n",
    "ion_weighted['constant 0'] = f1_score(test_labels, preds, average='weighted')\n",
    "ion_conf['constant 0'] = confusion_matrix(test_labels, preds)\n",
    "print \"~~~constant 0\"\n",
    "print classification_report(test_labels, preds)\n",
    "stop = timeit.default_timer()\n",
    "ion_time['constant 0']=stop - start\n",
    "start = timeit.default_timer()\n",
    "model = dc_constant_1.fit(train_resampled, train_labels_resampled)\n",
    "preds = dc_constant_1.predict(test_scaled)\n",
    "ion_macro['constant 1'] = f1_score(test_labels, preds, average='macro')\n",
    "ion_weighted['constant 1'] = f1_score(test_labels, preds, average='weighted')\n",
    "ion_conf['constant 1'] = confusion_matrix(test_labels, preds)\n",
    "print \"~~~constant 1\"\n",
    "print classification_report(test_labels, preds)\n",
    "stop = timeit.default_timer()\n",
    "ion_time['constant 1']=stop - start \n",
    "start = timeit.default_timer()\n",
    "model = dc_most_frequent.fit(train_resampled, train_labels_resampled)\n",
    "preds = dc_most_frequent.predict(test_scaled)\n",
    "ion_macro['most frequent label'] = f1_score(test_labels, preds, average='macro')\n",
    "ion_weighted['most frequent label'] = f1_score(test_labels, preds, average='weighted')\n",
    "ion_conf['most frequent label'] = confusion_matrix(test_labels, preds)\n",
    "print \"~~~most frequent label\"\n",
    "print classification_report(test_labels, preds)\n",
    "stop = timeit.default_timer()\n",
    "ion_time['most frequent label']=stop - start \n",
    "start = timeit.default_timer()\n",
    "model = dc_stratified.fit(train_resampled, train_labels_resampled)\n",
    "preds = dc_stratified.predict(test_scaled)\n",
    "ion_macro['stratified'] = f1_score(test_labels, preds, average='macro')\n",
    "ion_weighted['stratified'] = f1_score(test_labels, preds, average='weighted')\n",
    "ion_conf['stratified'] = confusion_matrix(test_labels, preds)\n",
    "print \"~~~stratified\"\n",
    "print classification_report(test_labels, preds)\n",
    "stop = timeit.default_timer()\n",
    "ion_time['stratified']=stop - start \n",
    "\n",
    "print \"F1 Macro Scores on the Ionosphere Dataset (20% test set)\\n\"\n",
    "for key, value in sorted(ion_macro.iteritems(), key=lambda (k,v): (-v,k)):\n",
    "    print \"%s: %s\" % (key, value)\n",
    "print \"\\n\"\n",
    "print \"F1 Weighted Scores on the Ionosphere Dataset (20% test set)\\n\"\n",
    "for key, value in sorted(ion_weighted.iteritems(), key=lambda (k,v): (-v,k)):\n",
    "    print \"%s: %s\" % (key, value)\n",
    "print \"\\n\"\n",
    "print \"Confusion Matrixes on the Ionosphere Dataset (20% test set)\\n\"\n",
    "for key, value in ion_conf.iteritems():\n",
    "    print key,\"\\n\"\n",
    "    print value,\"\\n\"\n",
    "print \"Running Time Of Dummy Classifiers on the Ionosphere Dataset (20% test set)\\n\"\n",
    "for key, value in sorted(ion_time.iteritems(), key=lambda (k,v): (-v,k)):\n",
    "    print \"%s: %s secs\" % (key, value)\n",
    "print \"\\n\""
   ]
  },
  {
   "cell_type": "markdown",
   "metadata": {},
   "source": [
    "# MLP Classifier"
   ]
  },
  {
   "cell_type": "code",
   "execution_count": 13,
   "metadata": {
    "scrolled": true
   },
   "outputs": [
    {
     "name": "stdout",
     "output_type": "stream",
     "text": [
      "             precision    recall  f1-score   support\n",
      "\n",
      "          b       0.95      0.75      0.84        24\n",
      "          g       0.88      0.98      0.93        47\n",
      "\n",
      "avg / total       0.91      0.90      0.90        71\n",
      "\n",
      "f1_macro:     0.883251115809\n",
      "f1_weighted:  0.898166069473\n",
      "\n",
      " Confusion Matrix: \n",
      "[[18  6]\n",
      " [ 1 46]]\n",
      "\n",
      " Running Time: 0.68776679039 secs\n"
     ]
    }
   ],
   "source": [
    "start = timeit.default_timer()\n",
    "clf = MLPClassifier(solver=\"lbfgs\",hidden_layer_sizes=(1,))\n",
    "clf.fit(train_resampled, train_labels_resampled)\n",
    "preds = clf.predict(test_scaled)\n",
    "print classification_report(test_labels, preds)\n",
    "ion_macro['Default MLP']=f1_score(test_labels, preds, average='macro')\n",
    "ion_weighted['Default MLP']=f1_score(test_labels, preds, average='weighted')\n",
    "print \"f1_macro:    \",f1_score(test_labels, preds, average='macro')\n",
    "print \"f1_weighted: \",f1_score(test_labels, preds, average='weighted')\n",
    "print \"\\n Confusion Matrix: \\n\",confusion_matrix(test_labels, preds)\n",
    "stop = timeit.default_timer()\n",
    "ion_time['Default MLP']=stop-start\n",
    "print \"\\n Running Time:\",stop - start,\"secs\" "
   ]
  },
  {
   "cell_type": "markdown",
   "metadata": {},
   "source": [
    "## Optimized MLP"
   ]
  },
  {
   "cell_type": "code",
   "execution_count": 14,
   "metadata": {},
   "outputs": [
    {
     "name": "stdout",
     "output_type": "stream",
     "text": [
      "Best size of MLP hidden layers (macro):    18\n",
      "Best size of MLP hidden layers (weighted): 11\n",
      "\n",
      " Running Time: 15.5983538628 secs\n"
     ]
    }
   ],
   "source": [
    "best_macro = 0.0\n",
    "best_macro_n = 0\n",
    "best_weighted = 0.0\n",
    "best_weighted_n = 0\n",
    "start = timeit.default_timer()\n",
    "for i in range(1,20):\n",
    "    clf = MLPClassifier(solver=\"lbfgs\",hidden_layer_sizes=(i,))\n",
    "    clf.fit(train_resampled, train_labels_resampled)\n",
    "    preds = clf.predict(test_scaled)\n",
    "    scores0 = cross_val_score(clf, train_resampled, train_labels_resampled, cv=10, scoring='f1_macro')\n",
    "    if (np.mean(scores0, axis=0) > best_macro):\n",
    "        best_macro = np.mean(scores0, axis=0)\n",
    "        best_macro_n = i\n",
    "    scores1 = cross_val_score(clf, train_resampled, train_labels_resampled, cv=10, scoring='f1_weighted')\n",
    "    if (np.mean(scores1, axis=0) > best_weighted):\n",
    "        best_weighted = np.mean(scores1, axis=0)\n",
    "        best_weighted_n = i\n",
    "print \"Best size of MLP hidden layers (macro):   \",best_macro_n\n",
    "print \"Best size of MLP hidden layers (weighted):\",best_weighted_n\n",
    "stop = timeit.default_timer()\n",
    "print \"\\n Running Time:\",stop - start,\"secs\" "
   ]
  },
  {
   "cell_type": "code",
   "execution_count": 15,
   "metadata": {},
   "outputs": [
    {
     "name": "stdout",
     "output_type": "stream",
     "text": [
      "             precision    recall  f1-score   support\n",
      "\n",
      "          b       1.00      0.75      0.86        24\n",
      "          g       0.89      1.00      0.94        47\n",
      "\n",
      "avg / total       0.93      0.92      0.91        71\n",
      "\n",
      "f1_macro:     0.898571428571\n",
      "f1_weighted:  0.91199195171\n",
      "\n",
      " Confusion Matrix: \n",
      "[[18  6]\n",
      " [ 0 47]]\n",
      "\n",
      " Running Time: 0.0192270278931 secs\n"
     ]
    }
   ],
   "source": [
    "clf = MLPClassifier(solver=\"lbfgs\",hidden_layer_sizes=(best_weighted_n,))\n",
    "clf.fit(train_resampled, train_labels_resampled)\n",
    "preds = clf.predict(test_scaled)\n",
    "weighted_score = f1_score(test_labels, preds,average=\"macro\")\n",
    "clf = MLPClassifier(solver=\"lbfgs\",hidden_layer_sizes=(best_macro_n,))\n",
    "clf.fit(train_resampled, train_labels_resampled)\n",
    "preds = clf.predict(test_scaled)\n",
    "macro_score = f1_score(test_labels, preds,average=\"macro\")\n",
    "start = timeit.default_timer()\n",
    "if (macro_score < weighted_score):\n",
    "    clf = MLPClassifier(solver=\"lbfgs\",hidden_layer_sizes=(best_weighted_n,))\n",
    "    clf.fit(train_resampled, train_labels_resampled)\n",
    "    preds = clf.predict(test_scaled)\n",
    "    print classification_report(test_labels, preds)\n",
    "    ion_macro['Optimized MLP']=f1_score(test_labels, preds, average='macro')\n",
    "    ion_weighted['Optimized MLP']=f1_score(test_labels, preds, average='weighted')\n",
    "    print \"f1_macro:    \",f1_score(test_labels, preds, average='macro')\n",
    "    print \"f1_weighted: \",f1_score(test_labels, preds, average='weighted')\n",
    "    print \"\\n Confusion Matrix: \\n\",confusion_matrix(test_labels, preds)\n",
    "else:\n",
    "    clf = MLPClassifier(solver=\"lbfgs\",hidden_layer_sizes=(best_macro_n,))\n",
    "    clf.fit(train_resampled, train_labels_resampled)\n",
    "    preds = clf.predict(test_scaled)\n",
    "    print classification_report(test_labels, preds)\n",
    "    ion_macro['Optimized MLP']=f1_score(test_labels, preds, average='macro')\n",
    "    ion_weighted['Optimized MLP']=f1_score(test_labels, preds, average='weighted')\n",
    "    print \"f1_macro:    \",f1_score(test_labels, preds, average='macro')\n",
    "    print \"f1_weighted: \",f1_score(test_labels, preds, average='weighted')\n",
    "    print \"\\n Confusion Matrix: \\n\",confusion_matrix(test_labels, preds)\n",
    "    \n",
    "stop = timeit.default_timer()\n",
    "ion_time['Optimized MLP'] =stop-start \n",
    "print \"\\n Running Time:\",stop - start,\"secs\" "
   ]
  },
  {
   "cell_type": "markdown",
   "metadata": {},
   "source": [
    "# Στατιστικά Αποτελέσματα"
   ]
  },
  {
   "cell_type": "code",
   "execution_count": 16,
   "metadata": {},
   "outputs": [
    {
     "name": "stdout",
     "output_type": "stream",
     "text": [
      "             F1 Macro Scores\n"
     ]
    },
    {
     "data": {
      "image/png": "[encoded data removed]",
      "text/plain": [
       "<matplotlib.figure.Figure at 0x7fcb9e60ecd0>"
      ]
     },
     "metadata": {},
     "output_type": "display_data"
    },
    {
     "name": "stdout",
     "output_type": "stream",
     "text": [
      "             F1 Weighted Scores\n"
     ]
    },
    {
     "data": {
      "image/png": "[encoded data removed]",
      "text/plain": [
       "<matplotlib.figure.Figure at 0x7fcaf17ddb90>"
      ]
     },
     "metadata": {},
     "output_type": "display_data"
    },
    {
     "name": "stdout",
     "output_type": "stream",
     "text": [
      "             Running Time (secs)\n"
     ]
    },
    {
     "data": {
      "image/png": "[encoded data removed]",
      "text/plain": [
       "<matplotlib.figure.Figure at 0x7fcaf16bcd50>"
      ]
     },
     "metadata": {},
     "output_type": "display_data"
    }
   ],
   "source": [
    "plt.bar(range(len(ion_macro)), ion_macro.values(), align='center')\n",
    "plt.xticks(range(len(ion_macro)), ion_macro.keys(), rotation=90)\n",
    "print \"             F1 Macro Scores\"\n",
    "plt.show()\n",
    "\n",
    "plt.bar(range(len(ion_weighted)), ion_weighted.values(), align='center')\n",
    "plt.xticks(range(len(ion_weighted)), ion_weighted.keys(), rotation=90)\n",
    "print \"             F1 Weighted Scores\"\n",
    "plt.show()\n",
    "\n",
    "plt.bar(range(len(ion_time)), ion_time.values(), align='center')\n",
    "plt.xticks(range(len(ion_time)), ion_time.keys(), rotation=90)\n",
    "print \"             Running Time (secs)\"\n",
    "plt.show()"
   ]
  },
  {
   "cell_type": "code",
   "execution_count": 17,
   "metadata": {},
   "outputs": [
    {
     "name": "stdout",
     "output_type": "stream",
     "text": [
      "MLP Optimization Percentage (macro)    : 1.73453647416 %\n",
      "MLP Optimization Percentage (weighted) : 1.56533991181 %\n"
     ]
    }
   ],
   "source": [
    "print \"MLP Optimization Percentage (macro)    :\",(ion_macro['Optimized MLP']-ion_macro['Default MLP'])/ion_macro['Default MLP']*100,\"%\"\n",
    "print \"MLP Optimization Percentage (weighted) :\",(ion_weighted['Optimized MLP']-ion_weighted['Default MLP'])/ion_macro['Default MLP']*100,\"%\""
   ]
  },
  {
   "cell_type": "markdown",
   "metadata": {},
   "source": [
    "#### Σχολιασμός Αποτελεσμάτων\n",
    "Παραπάνω φαίνονται τα αποτελέσματα για όλους τους classifiers, δηλαδή τους dummy και τον MLP (τον default και τον optimized). Όπως φαίνεται, ο MLP είναι ο καλύτερος ταξινομητής και στις 2 μετρικές απόδοσης που χρησιμοποιούμε (F1 Macro Scores και F1 Weighted Scores). Ανάμεσα στις 2 μετρικές δεν παρατηρούμε σχεδόν καθόλου διαφορές. Από τους dummy ταξινομητές, ο stratified ειναι σίγουρα ο καλύτερος και αμέσως μετά βρίσκεται ο uniform(random). Φυσικά αυτό δεν μας βοηθάει να βγάλουμε σημαντικά συμπεράσματα αφού αυτοί οι classifiers είναι dummy και ουσιαστικά δεν δίνουν αποτελέσματα με βάση την εκπαίδευσή τους αλλά σύμφωνα με την ταυτότητά τους (για παράδειγμα ο constant_0 δίνει ως απάντηση συνεχώς 0). \n",
    "\n",
    "Αυτός ο ταξινομητής που μας ενδιαφέρει πραγματικά ο MLP και φυσικά ο Optimized MLP. Ουσιαστικά, η διαφορά του optimized είναι ότι αντί για έναν νευρώνα που χρησιμοποιεί ο default MLP, ελέγχει 20 νευρώνες και κρατάει την πιο υψηλή τιμή για κάθε μία από τις μετρικές που έχουμε. Γι' αυτό το λόγο βγάζει κατά περίπου 6,5% καλύτερα αποτελέσματα. Μάλιστα, αν κοιτάξουμε και τον πίνακα Confusion Matrix, παρατηρούμε ότι ουσιαστικά σε 71 προβλέψεις, ο Optimized MLP κάνει μόνο 4 λάθη αντί των 8 που κάνει ο default MLP.\n",
    "\n",
    "Τέλος, αν κοιτάξουμε και τον χρόνο εκτέλεσης των παραπάνω classifiers, βλέπουμε ότι τον περισσότερο χρόνο κάνει ο default MLP (περίπου 7 δευτερόλεπτα), ενώ όλοι οι υπόλοιποι κάνουν χρόνο πολύ κοντά στο 0 (μηδέν) με τον Optimized να κάνει ελαφρώς περισσότερο."
   ]
  }
 ],
 "metadata": {
  "kernelspec": {
   "display_name": "Python 3",
   "language": "python",
   "name": "python3"
  },
  "language_info": {
   "codemirror_mode": {
    "name": "ipython",
    "version": 3
   },
   "file_extension": ".py",
   "mimetype": "text/x-python",
   "name": "python",
   "nbconvert_exporter": "python",
   "pygments_lexer": "ipython3",
   "version": "3.7.0"
  }
 },
 "nbformat": 4,
 "nbformat_minor": 1
}
