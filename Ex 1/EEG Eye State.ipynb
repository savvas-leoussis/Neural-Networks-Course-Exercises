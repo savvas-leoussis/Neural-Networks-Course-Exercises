{
 "cells": [
  {
   "cell_type": "markdown",
   "metadata": {},
   "source": [
    "# Στοιχεία Ομάδας"
   ]
  },
  {
   "cell_type": "markdown",
   "metadata": {},
   "source": [
    "Ομάδα Β26\n",
    "\n",
    "Λεούσης Σάββας Α.M.:03114945\n",
    "\n",
    "Ζαραβίνος Γεώργιος A.M.:03114158"
   ]
  },
  {
   "cell_type": "markdown",
   "metadata": {},
   "source": [
    "# Εισαγωγή του EEG Eye State Data Set"
   ]
  },
  {
   "cell_type": "markdown",
   "metadata": {},
   "source": [
    "![title](https://www.systane.com/globalassets/systane22112/products/product-icons/systane_desktop_icon_contacts01.png)\n",
    "\n",
    "Όλα τα δεδομένα προέρχονται από μία συνεχή μέτρηση EEG με το Neuroheadset Emotiv. Η διάρκεια της μέτρησης ήταν 117 δευτερόλεπτα. Η κατάσταση των ματιών ανιχνεύθηκε μέσω μιας φωτογραφικής μηχανής κατά τη διάρκεια της μέτρησης και προστέθηκε στο αρχείο μετά την ανάλυση των στιγμιοτύπων του βίντεο. Το '1' υποδεικνύει την κλειστή κατάσταση και το '0' στην ανοιχτή κατάσταση του ματιού. Όλες οι τιμές είναι σε χρονολογική σειρά με την πρώτη μετρημένη τιμή στην κορυφή των δεδομένων."
   ]
  },
  {
   "cell_type": "markdown",
   "metadata": {},
   "source": [
    "Αριθμός Δειγμάτων : 14980\n",
    "\n",
    "Αριθμός Χαρακτηριστικών : 15\n",
    "\n",
    "Είδος Χαρακτηριστικών : Ακέραιοι, Πραγματικοί\n",
    "\n",
    "Υπάρχουν μη διατεταγμένα στοιχεία; Όχι\n",
    "\n",
    "Υπάρχουν επικεφαλίδες; Όχι\n",
    "\n",
    "Υπάρχουν αριθμίσεις γραμμών; Όχι\n",
    "\n",
    "Ετικέτες κλάσεων: 1 για 'eye closed', 0 για 'eye open'\n",
    "\n",
    "Κολώνα (Column) Ετικετών : 15\n",
    "\n",
    "Χρειάστηκε μετατροπή του αρχείου; Ναι, μετατροπή από arff σε csv και μετά εισαγωγή ως pandas data frame\n",
    "\n",
    "Υπάρχουν απουσιάζουσες τιμές; Όχι\n",
    "\n",
    "Αριθμός κλάσεων : 2 (44% 1, 56% 0) \"Ισορροπημένο (Balanced)\" "
   ]
  },
  {
   "cell_type": "markdown",
   "metadata": {},
   "source": [
    "# Data Insertion"
   ]
  },
  {
   "cell_type": "code",
   "execution_count": 1,
   "metadata": {},
   "outputs": [
    {
     "name": "stdout",
     "output_type": "stream",
     "text": [
      "Requirement already up-to-date: imbalanced-learn in /gpfs/global_fs01/sym_shared/YPProdSpark/user/s08a-9082e10dd730b1-6f702ff6845a/.local/lib/python2.7/site-packages\n",
      "Requirement already up-to-date: scikit-learn in /gpfs/global_fs01/sym_shared/YPProdSpark/user/s08a-9082e10dd730b1-6f702ff6845a/.local/lib/python2.7/site-packages (from imbalanced-learn)\n",
      "Requirement already up-to-date: numpy in /gpfs/global_fs01/sym_shared/YPProdSpark/user/s08a-9082e10dd730b1-6f702ff6845a/.local/lib/python2.7/site-packages (from imbalanced-learn)\n",
      "Requirement already up-to-date: scipy in /gpfs/global_fs01/sym_shared/YPProdSpark/user/s08a-9082e10dd730b1-6f702ff6845a/.local/lib/python2.7/site-packages (from imbalanced-learn)\n"
     ]
    }
   ],
   "source": [
    "from io import StringIO\n",
    "import requests\n",
    "import json\n",
    "import pandas as pd\n",
    "import numpy as np\n",
    "from sklearn.model_selection import train_test_split\n",
    "from sklearn.feature_selection import VarianceThreshold\n",
    "from sklearn import preprocessing\n",
    "from imblearn.pipeline import Pipeline\n",
    "from sklearn.model_selection import GridSearchCV\n",
    "from sklearn.dummy import DummyClassifier\n",
    "from sklearn.metrics import f1_score\n",
    "from sklearn.metrics import confusion_matrix\n",
    "from sklearn.metrics import classification_report\n",
    "from sklearn.neural_network import MLPClassifier\n",
    "from sklearn.model_selection import cross_val_score\n",
    "from sklearn.preprocessing import MultiLabelBinarizer\n",
    "from sklearn.preprocessing import StandardScaler\n",
    "from sklearn.decomposition import PCA\n",
    "from sklearn.naive_bayes import GaussianNB\n",
    "from sklearn import neighbors\n",
    "import matplotlib.pyplot as plt\n",
    "import timeit\n",
    "!pip install --upgrade imbalanced-learn\n",
    "from imblearn.over_sampling import RandomOverSampler"
   ]
  },
  {
   "cell_type": "code",
   "execution_count": 2,
   "metadata": {},
   "outputs": [],
   "source": [
    "# @hidden_cell\n",
    "# This function accesses a file in your Object Storage. The definition contains your credentials.\n",
    "# You might want to remove those credentials before you share your notebook.\n",
    "def get_object_storage_file_with_credentials_9e289a694b4e4211947aea77a54e113a(container, filename):\n",
    "    \"\"\"This functions returns a StringIO object containing\n",
    "    the file content from Bluemix Object Storage.\"\"\"\n",
    "\n",
    "    url1 = ''.join(['https://identity.open.softlayer.com', '/v3/auth/tokens'])\n",
    "    data = {'auth': {'identity': {'methods': ['password'],\n",
    "            'password': {'user': {'name': 'member_9acbb12bae2d5d4b4c578bba89be1bfee163f0b6','domain': {'id': '83cffb9693bb429285dec914567206dd'},\n",
    "            'password': 'kn]^thM5vAsWk2gc'}}}}}\n",
    "    headers1 = {'Content-Type': 'application/json'}\n",
    "    resp1 = requests.post(url=url1, data=json.dumps(data), headers=headers1)\n",
    "    resp1_body = resp1.json()\n",
    "    for e1 in resp1_body['token']['catalog']:\n",
    "        if(e1['type']=='object-store'):\n",
    "            for e2 in e1['endpoints']:\n",
    "                        if(e2['interface']=='public'and e2['region']=='dallas'):\n",
    "                            url2 = ''.join([e2['url'],'/', container, '/', filename])\n",
    "    s_subject_token = resp1.headers['x-subject-token']\n",
    "    headers2 = {'X-Auth-Token': s_subject_token, 'accept': 'application/json'}\n",
    "    resp2 = requests.get(url=url2, headers=headers2)\n",
    "    return StringIO(resp2.text)\n",
    "data_df = pd.read_csv(get_object_storage_file_with_credentials_9e289a694b4e4211947aea77a54e113a('DefaultProjectsavvasleoussisgmailcom', 'EEG_Eye_State.csv'))"
   ]
  },
  {
   "cell_type": "code",
   "execution_count": 3,
   "metadata": {},
   "outputs": [],
   "source": [
    "labels_df = data_df.iloc[:,14]\n",
    "features_df = data_df.iloc[:,0:14]"
   ]
  },
  {
   "cell_type": "code",
   "execution_count": 4,
   "metadata": {},
   "outputs": [],
   "source": [
    "np_labels = labels_df.values\n",
    "np_features = features_df.values"
   ]
  },
  {
   "cell_type": "code",
   "execution_count": 5,
   "metadata": {},
   "outputs": [],
   "source": [
    "train, test, train_labels, test_labels = train_test_split(np_features, np_labels, test_size=0.30)"
   ]
  },
  {
   "cell_type": "code",
   "execution_count": 6,
   "metadata": {},
   "outputs": [
    {
     "name": "stdout",
     "output_type": "stream",
     "text": [
      "Dataset Balance (1) ≈ 44 %\n",
      "Dataset Balance (0) ≈ 56 %\n"
     ]
    }
   ],
   "source": [
    "sum = 0\n",
    "for i in range(0,np_labels.size):\n",
    "    if (np_labels[i]==1):\n",
    "        sum+=1\n",
    "print 'Dataset Balance (1) ≈',sum*100/np_labels.size,'%'\n",
    "print 'Dataset Balance (0) ≈',100-sum*100/np_labels.size,'%'"
   ]
  },
  {
   "cell_type": "markdown",
   "metadata": {},
   "source": [
    "# Pipeline Transformers-Classifiers"
   ]
  },
  {
   "cell_type": "code",
   "execution_count": 7,
   "metadata": {},
   "outputs": [],
   "source": [
    "selector = VarianceThreshold()\n",
    "scaler = StandardScaler()\n",
    "ros = RandomOverSampler()\n",
    "\n",
    "dc_uniform = DummyClassifier(strategy=\"uniform\")\n",
    "dc_constant_0 = DummyClassifier(strategy=\"constant\", constant=0)\n",
    "dc_constant_1 = DummyClassifier(strategy=\"constant\", constant=1)\n",
    "dc_most_frequent = DummyClassifier(strategy=\"most_frequent\")\n",
    "dc_stratified = DummyClassifier(strategy=\"stratified\")\n",
    "gnb = GaussianNB()\n",
    "knn = neighbors.KNeighborsClassifier(n_jobs=-1)\n",
    "mlp = MLPClassifier()"
   ]
  },
  {
   "cell_type": "markdown",
   "metadata": {},
   "source": [
    "# Dummy Classifiers"
   ]
  },
  {
   "cell_type": "code",
   "execution_count": 8,
   "metadata": {},
   "outputs": [
    {
     "name": "stdout",
     "output_type": "stream",
     "text": [
      "~~~uniform (random)\n",
      "             precision    recall  f1-score   support\n",
      "\n",
      "          0       0.55      0.48      0.52      2515\n",
      "          1       0.43      0.50      0.47      1979\n",
      "\n",
      "avg / total       0.50      0.49      0.49      4494\n",
      "\n",
      "~~~constant 0\n",
      "             precision    recall  f1-score   support\n",
      "\n",
      "          0       0.56      1.00      0.72      2515\n",
      "          1       0.00      0.00      0.00      1979\n",
      "\n",
      "avg / total       0.31      0.56      0.40      4494\n",
      "\n",
      "~~~constant 1\n",
      "             precision    recall  f1-score   support\n",
      "\n",
      "          0       0.00      0.00      0.00      2515\n",
      "          1       0.44      1.00      0.61      1979\n",
      "\n",
      "avg / total       0.19      0.44      0.27      4494\n",
      "\n",
      "~~~most frequent label\n",
      "             precision    recall  f1-score   support\n",
      "\n",
      "          0       0.56      1.00      0.72      2515\n",
      "          1       0.00      0.00      0.00      1979\n",
      "\n",
      "avg / total       0.31      0.56      0.40      4494\n",
      "\n",
      "~~~stratified\n",
      "             precision    recall  f1-score   support\n",
      "\n",
      "          0       0.57      0.50      0.53      2515\n",
      "          1       0.45      0.51      0.48      1979\n",
      "\n",
      "avg / total       0.51      0.51      0.51      4494\n",
      "\n",
      "F1 Macro Scores on the EEG Eye State Dataset (30% test set)\n",
      "\n",
      "stratified: 0.505242036689\n",
      "uniform (random): 0.491057774002\n",
      "constant 0: 0.358824368669\n",
      "most frequent label: 0.358824368669\n",
      "constant 1: 0.305731500077\n",
      "\n",
      "\n",
      "F1 Weighted Scores on the EEG Eye State Dataset (30% test set)\n",
      "\n",
      "stratified: 0.508656046733\n",
      "uniform (random): 0.493948326835\n",
      "constant 0: 0.401621400624\n",
      "most frequent label: 0.401621400624\n",
      "constant 1: 0.269266861884\n",
      "\n",
      "\n",
      "Confusion Matrixes on the EEG Eye State Dataset (30% test set)\n",
      "\n",
      "most frequent label \n",
      "\n",
      "[[2515    0]\n",
      " [1979    0]] \n",
      "\n",
      "stratified \n",
      "\n",
      "[[1269 1246]\n",
      " [ 970 1009]] \n",
      "\n",
      "constant 0 \n",
      "\n",
      "[[2515    0]\n",
      " [1979    0]] \n",
      "\n",
      "uniform (random) \n",
      "\n",
      "[[1213 1302]\n",
      " [ 980  999]] \n",
      "\n",
      "constant 1 \n",
      "\n",
      "[[   0 2515]\n",
      " [   0 1979]] \n",
      "\n",
      "Running Time Of Dummy Classifiers on the EEG Eye State Dataset (30% test set)\n",
      "\n",
      "uniform (random): 0.0326628684998 secs\n",
      "constant 0: 0.0310389995575 secs\n",
      "stratified: 0.0253541469574 secs\n",
      "constant 1: 0.0250909328461 secs\n",
      "most frequent label: 0.0245831012726 secs\n",
      "\n",
      "\n"
     ]
    },
    {
     "name": "stderr",
     "output_type": "stream",
     "text": [
      "/gpfs/fs01/user/s08a-9082e10dd730b1-6f702ff6845a/.local/lib/python2.7/site-packages/sklearn/metrics/classification.py:1135: UndefinedMetricWarning: F-score is ill-defined and being set to 0.0 in labels with no predicted samples.\n",
      "  'precision', 'predicted', average, warn_for)\n",
      "/gpfs/fs01/user/s08a-9082e10dd730b1-6f702ff6845a/.local/lib/python2.7/site-packages/sklearn/metrics/classification.py:1135: UndefinedMetricWarning: Precision and F-score are ill-defined and being set to 0.0 in labels with no predicted samples.\n",
      "  'precision', 'predicted', average, warn_for)\n"
     ]
    }
   ],
   "source": [
    "eeg_macro = {}\n",
    "eeg_weighted = {}\n",
    "eeg_conf = {}\n",
    "eeg_time = {}\n",
    "start = timeit.default_timer()\n",
    "pipe = Pipeline(steps=[('selector', selector), ('scaler', scaler), ('sampler', ros), ('uniform (random)', dc_uniform)])\n",
    "model = pipe.fit(train, train_labels)\n",
    "preds = pipe.predict(test)\n",
    "eeg_macro['uniform (random)'] = f1_score(test_labels, preds, average='macro')\n",
    "eeg_weighted['uniform (random)'] = f1_score(test_labels, preds, average='weighted')\n",
    "eeg_conf['uniform (random)'] = confusion_matrix(test_labels, preds)\n",
    "print \"~~~uniform (random)\"\n",
    "print classification_report(test_labels, preds)\n",
    "stop = timeit.default_timer()\n",
    "eeg_time['uniform (random)']=stop - start \n",
    "start = timeit.default_timer()\n",
    "pipe = Pipeline(steps=[('selector', selector), ('scaler', scaler), ('sampler', ros), ('constant 0', dc_constant_0)])\n",
    "model = pipe.fit(train, train_labels)\n",
    "preds = pipe.predict(test)\n",
    "eeg_macro['constant 0'] = f1_score(test_labels, preds, average='macro')\n",
    "eeg_weighted['constant 0'] = f1_score(test_labels, preds, average='weighted')\n",
    "eeg_conf['constant 0'] = confusion_matrix(test_labels, preds)\n",
    "print \"~~~constant 0\"\n",
    "print classification_report(test_labels, preds)\n",
    "stop = timeit.default_timer()\n",
    "eeg_time['constant 0']=stop - start\n",
    "start = timeit.default_timer()\n",
    "pipe = Pipeline(steps=[('selector', selector), ('scaler', scaler), ('sampler', ros), ('constant 1', dc_constant_1)])\n",
    "model = pipe.fit(train, train_labels)\n",
    "preds = pipe.predict(test)\n",
    "eeg_macro['constant 1'] = f1_score(test_labels, preds, average='macro')\n",
    "eeg_weighted['constant 1'] = f1_score(test_labels, preds, average='weighted')\n",
    "eeg_conf['constant 1'] = confusion_matrix(test_labels, preds)\n",
    "print \"~~~constant 1\"\n",
    "print classification_report(test_labels, preds)\n",
    "stop = timeit.default_timer()\n",
    "eeg_time['constant 1']=stop - start \n",
    "start = timeit.default_timer()\n",
    "pipe = Pipeline(steps=[('selector', selector), ('scaler', scaler), ('sampler', ros), ('most frequent label', dc_most_frequent)])\n",
    "model = pipe.fit(train, train_labels)\n",
    "preds = pipe.predict(test)\n",
    "eeg_macro['most frequent label'] = f1_score(test_labels, preds, average='macro')\n",
    "eeg_weighted['most frequent label'] = f1_score(test_labels, preds, average='weighted')\n",
    "eeg_conf['most frequent label'] = confusion_matrix(test_labels, preds)\n",
    "print \"~~~most frequent label\"\n",
    "print classification_report(test_labels, preds)\n",
    "stop = timeit.default_timer()\n",
    "eeg_time['most frequent label']=stop - start \n",
    "start = timeit.default_timer()\n",
    "pipe = Pipeline(steps=[('selector', selector), ('scaler', scaler), ('sampler', ros), ('stratified', dc_stratified)])\n",
    "model = pipe.fit(train, train_labels)\n",
    "preds = pipe.predict(test)\n",
    "eeg_macro['stratified'] = f1_score(test_labels, preds, average='macro')\n",
    "eeg_weighted['stratified'] = f1_score(test_labels, preds, average='weighted')\n",
    "eeg_conf['stratified'] = confusion_matrix(test_labels, preds)\n",
    "print \"~~~stratified\"\n",
    "print classification_report(test_labels, preds)\n",
    "stop = timeit.default_timer()\n",
    "eeg_time['stratified']=stop - start \n",
    "\n",
    "print \"F1 Macro Scores on the EEG Eye State Dataset (30% test set)\\n\"\n",
    "for key, value in sorted(eeg_macro.iteritems(), key=lambda (k,v): (-v,k)):\n",
    "    print \"%s: %s\" % (key, value)\n",
    "print \"\\n\"\n",
    "print \"F1 Weighted Scores on the EEG Eye State Dataset (30% test set)\\n\"\n",
    "for key, value in sorted(eeg_weighted.iteritems(), key=lambda (k,v): (-v,k)):\n",
    "    print \"%s: %s\" % (key, value)\n",
    "print \"\\n\"\n",
    "print \"Confusion Matrixes on the EEG Eye State Dataset (30% test set)\\n\"\n",
    "for key, value in eeg_conf.iteritems():\n",
    "    print key,\"\\n\"\n",
    "    print value,\"\\n\"\n",
    "print \"Running Time Of Dummy Classifiers on the EEG Eye State Dataset (30% test set)\\n\"\n",
    "for key, value in sorted(eeg_time.iteritems(), key=lambda (k,v): (-v,k)):\n",
    "    print \"%s: %s secs\" % (key, value)\n",
    "print \"\\n\""
   ]
  },
  {
   "cell_type": "markdown",
   "metadata": {},
   "source": [
    "# Gaussian Naive Bayes Classifier"
   ]
  },
  {
   "cell_type": "code",
   "execution_count": 9,
   "metadata": {},
   "outputs": [
    {
     "name": "stdout",
     "output_type": "stream",
     "text": [
      "~~~Gaussian Naive Bayes\n",
      "             precision    recall  f1-score   support\n",
      "\n",
      "          0       0.51      0.03      0.06      2515\n",
      "          1       0.44      0.96      0.60      1979\n",
      "\n",
      "avg / total       0.48      0.44      0.30      4494\n",
      "\n",
      "f1_macro:     0.330041217742\n",
      "f1_weighted:  0.2974849147\n",
      "\n",
      " Confusion Matrix: \n",
      "[[  76 2439]\n",
      " [  72 1907]]\n",
      "\n",
      " Running Time: 0.038341999054 secs\n"
     ]
    }
   ],
   "source": [
    "start = timeit.default_timer()\n",
    "pipe = Pipeline(steps=[('selector', selector), ('scaler', scaler), ('sampler', ros), ('Gaussian Naive Bayes', gnb)])\n",
    "model = pipe.fit(train, train_labels)\n",
    "preds = pipe.predict(test)\n",
    "eeg_macro['Gaussian Naive Bayes'] = f1_score(test_labels, preds, average='macro')\n",
    "eeg_weighted['Gaussian Naive Bayes'] = f1_score(test_labels, preds, average='weighted')\n",
    "eeg_conf['Gaussian Naive Bayes'] = confusion_matrix(test_labels, preds)\n",
    "print \"~~~Gaussian Naive Bayes\"\n",
    "print classification_report(test_labels, preds)\n",
    "print \"f1_macro:    \",f1_score(test_labels, preds, average='macro')\n",
    "print \"f1_weighted: \",f1_score(test_labels, preds, average='weighted')\n",
    "print \"\\n Confusion Matrix: \\n\",confusion_matrix(test_labels, preds)\n",
    "stop = timeit.default_timer()\n",
    "eeg_time['Gaussian Naive Bayes']= stop - start \n",
    "print \"\\n Running Time:\",stop - start,\"secs\" "
   ]
  },
  {
   "cell_type": "markdown",
   "metadata": {},
   "source": [
    "# kNN Classifier"
   ]
  },
  {
   "cell_type": "markdown",
   "metadata": {},
   "source": [
    "## Default kNN"
   ]
  },
  {
   "cell_type": "code",
   "execution_count": 10,
   "metadata": {},
   "outputs": [
    {
     "name": "stdout",
     "output_type": "stream",
     "text": [
      "~~~Default kNN\n",
      "             precision    recall  f1-score   support\n",
      "\n",
      "          0       0.92      0.89      0.90      2515\n",
      "          1       0.86      0.90      0.88      1979\n",
      "\n",
      "avg / total       0.89      0.89      0.89      4494\n",
      "\n",
      "f1_macro:     0.89187948462\n",
      "f1_weighted:  0.893173630704\n",
      "\n",
      " Confusion Matrix: \n",
      "[[2232  283]\n",
      " [ 198 1781]]\n",
      "\n",
      " Running Time: 5.18159604073 secs\n"
     ]
    }
   ],
   "source": [
    "start = timeit.default_timer()\n",
    "pipe = Pipeline(steps=[('selector', selector), ('scaler', scaler), ('sampler', ros), ('kNN', knn)], memory = 'tmp')\n",
    "pipe.fit(train, train_labels)\n",
    "preds = pipe.predict(test)\n",
    "stop = timeit.default_timer()\n",
    "eeg_macro['Default kNN'] = f1_score(test_labels, preds, average='macro')\n",
    "eeg_weighted['Default kNN'] = f1_score(test_labels, preds, average='weighted')\n",
    "eeg_conf['Default kNN'] = confusion_matrix(test_labels, preds)\n",
    "print \"~~~Default kNN\"\n",
    "print classification_report(test_labels, preds)\n",
    "print \"f1_macro:    \",f1_score(test_labels, preds, average='macro')\n",
    "print \"f1_weighted: \",f1_score(test_labels, preds, average='weighted')\n",
    "print \"\\n Confusion Matrix: \\n\",confusion_matrix(test_labels, preds)\n",
    "eeg_time['Default kNN']= stop - start\n",
    "print \"\\n Running Time:\",stop - start,\"secs\" "
   ]
  },
  {
   "cell_type": "code",
   "execution_count": 11,
   "metadata": {},
   "outputs": [
    {
     "name": "stdout",
     "output_type": "stream",
     "text": [
      "Pipeline(memory='tmp',\n",
      "     steps=[('selector', VarianceThreshold(threshold=0.0)), ('scaler', StandardScaler(copy=True, with_mean=True, with_std=True)), ('sampler', RandomOverSampler(random_state=None, ratio='auto')), ('kNN', KNeighborsClassifier(algorithm='auto', leaf_size=30, metric='minkowski',\n",
      "           metric_params=None, n_jobs=-1, n_neighbors=5, p=2,\n",
      "           weights='uniform'))])\n"
     ]
    }
   ],
   "source": [
    "print pipe"
   ]
  },
  {
   "cell_type": "markdown",
   "metadata": {},
   "source": [
    "## Optimized kNN"
   ]
  },
  {
   "cell_type": "code",
   "execution_count": 12,
   "metadata": {},
   "outputs": [
    {
     "name": "stdout",
     "output_type": "stream",
     "text": [
      "~~~Optimized kNN\n",
      "             precision    recall  f1-score   support\n",
      "\n",
      "          0       0.92      0.92      0.92      2515\n",
      "          1       0.89      0.90      0.90      1979\n",
      "\n",
      "avg / total       0.91      0.91      0.91      4494\n",
      "\n",
      "f1_macro:     0.90772077165\n",
      "f1_weighted:  0.909011435728\n",
      "\n",
      " Confusion Matrix: \n",
      "[[2306  209]\n",
      " [ 200 1779]]\n",
      "\n",
      " Running Time: 59.9187600613 secs\n"
     ]
    }
   ],
   "source": [
    "K = [1, 5, 10, 20, 30, 40]\n",
    "#metrics = ['euclidean','manhattan','chebyshev','minkowski','wminkowski','seuclidean','mahalanobis']\n",
    "weight = ['uniform','distance']\n",
    "start = timeit.default_timer()\n",
    "pipe = Pipeline(steps=[('selector', selector), ('scaler', scaler), ('sampler', ros), ('kNN', knn)], memory = 'tmp')\n",
    "estimator = GridSearchCV(pipe, dict(kNN__n_neighbors=K,kNN__weights=weight), scoring='f1_macro', n_jobs=-1,cv=5)\n",
    "estimator.fit(train, train_labels)\n",
    "preds = estimator.predict(test)\n",
    "stop = timeit.default_timer()\n",
    "eeg_macro['Optimized kNN'] = f1_score(test_labels, preds, average='macro')\n",
    "eeg_weighted['Optimized kNN'] = f1_score(test_labels, preds, average='weighted')\n",
    "eeg_conf['Optimized kNN'] = confusion_matrix(test_labels, preds)\n",
    "print \"~~~Optimized kNN\"\n",
    "print classification_report(test_labels, preds)\n",
    "print \"f1_macro:    \",f1_score(test_labels, preds, average='macro')\n",
    "print \"f1_weighted: \",f1_score(test_labels, preds, average='weighted')\n",
    "print \"\\n Confusion Matrix: \\n\",confusion_matrix(test_labels, preds)\n",
    "eeg_time['Optimized kNN']= stop - start\n",
    "print \"\\n Running Time:\",stop - start,\"secs\" "
   ]
  },
  {
   "cell_type": "code",
   "execution_count": 13,
   "metadata": {},
   "outputs": [
    {
     "name": "stdout",
     "output_type": "stream",
     "text": [
      "Pipeline(memory='tmp',\n",
      "     steps=[('selector', VarianceThreshold(threshold=0.0)), ('scaler', StandardScaler(copy=True, with_mean=True, with_std=True)), ('sampler', RandomOverSampler(random_state=None, ratio='auto')), ('kNN', KNeighborsClassifier(algorithm='auto', leaf_size=30, metric='minkowski',\n",
      "           metric_params=None, n_jobs=-1, n_neighbors=1, p=2,\n",
      "           weights='uniform'))])\n"
     ]
    }
   ],
   "source": [
    "print estimator.best_estimator_"
   ]
  },
  {
   "cell_type": "markdown",
   "metadata": {},
   "source": [
    "# MLP Classifier"
   ]
  },
  {
   "cell_type": "markdown",
   "metadata": {},
   "source": [
    "## Default MLP"
   ]
  },
  {
   "cell_type": "code",
   "execution_count": 21,
   "metadata": {},
   "outputs": [
    {
     "name": "stderr",
     "output_type": "stream",
     "text": [
      "/gpfs/fs01/user/s08a-9082e10dd730b1-6f702ff6845a/.local/lib/python2.7/site-packages/sklearn/neural_network/multilayer_perceptron.py:564: ConvergenceWarning: Stochastic Optimizer: Maximum iterations (200) reached and the optimization hasn't converged yet.\n",
      "  % self.max_iter, ConvergenceWarning)\n"
     ]
    },
    {
     "name": "stdout",
     "output_type": "stream",
     "text": [
      "~~~Default MLP\n",
      "             precision    recall  f1-score   support\n",
      "\n",
      "          0       0.90      0.88      0.89      2515\n",
      "          1       0.85      0.87      0.86      1979\n",
      "\n",
      "avg / total       0.88      0.88      0.88      4494\n",
      "\n",
      "f1_macro:     0.87593514201\n",
      "f1_weighted:  0.877538669455\n",
      "\n",
      " Confusion Matrix: \n",
      "[[2215  300]\n",
      " [ 251 1728]]\n",
      "\n",
      " Running Time: 152.773239136 secs\n"
     ]
    }
   ],
   "source": [
    "start = timeit.default_timer()\n",
    "pipe = Pipeline(steps=[('selector', selector), ('scaler', scaler), ('sampler', ros), ('MLP', mlp)],memory='tmp')\n",
    "pipe.fit(train, train_labels)\n",
    "preds = pipe.predict(test)\n",
    "stop = timeit.default_timer()\n",
    "eeg_macro['Default MLP'] = f1_score(test_labels, preds, average='macro')\n",
    "eeg_weighted['Default MLP'] = f1_score(test_labels, preds, average='weighted')\n",
    "eeg_conf['Default MLP'] = confusion_matrix(test_labels, preds)\n",
    "print \"~~~Default MLP\"\n",
    "print classification_report(test_labels, preds)\n",
    "print \"f1_macro:    \",f1_score(test_labels, preds, average='macro')\n",
    "print \"f1_weighted: \",f1_score(test_labels, preds, average='weighted')\n",
    "print \"\\n Confusion Matrix: \\n\",confusion_matrix(test_labels, preds)\n",
    "eeg_time['Default MLP']= stop - start\n",
    "print \"\\n Running Time:\",stop - start,\"secs\" "
   ]
  },
  {
   "cell_type": "code",
   "execution_count": 22,
   "metadata": {},
   "outputs": [
    {
     "name": "stdout",
     "output_type": "stream",
     "text": [
      "Pipeline(memory='tmp',\n",
      "     steps=[('selector', VarianceThreshold(threshold=0.0)), ('scaler', StandardScaler(copy=True, with_mean=True, with_std=True)), ('sampler', RandomOverSampler(random_state=None, ratio='auto')), ('MLP', MLPClassifier(activation='relu', alpha=0.0001, batch_size='auto', beta_1=0.9,\n",
      "       beta_2=0.999, ear...=True, solver='adam', tol=0.0001, validation_fraction=0.1,\n",
      "       verbose=False, warm_start=False))])\n"
     ]
    }
   ],
   "source": [
    "print pipe"
   ]
  },
  {
   "cell_type": "markdown",
   "metadata": {},
   "source": [
    "## Optimized MLP"
   ]
  },
  {
   "cell_type": "code",
   "execution_count": null,
   "metadata": {},
   "outputs": [],
   "source": [
    "layer_size=[100,150,200]\n",
    "solvers=['lbfgs','adam']\n",
    "start = timeit.default_timer()\n",
    "pipe = Pipeline(steps=[('selector', selector), ('scaler', scaler), ('sampler', ros), ('MLP', mlp)], memory = 'tmp')\n",
    "estimator = GridSearchCV(pipe, dict(MLP__hidden_layer_sizes=(layer_size,),MLP__solver=solvers), scoring='f1_macro', n_jobs=-1,cv=5)\n",
    "estimator.fit(train, train_labels)\n",
    "preds = estimator.predict(test)\n",
    "stop = timeit.default_timer()\n",
    "eeg_macro['Optimized MLP'] = f1_score(test_labels, preds, average='macro')\n",
    "eeg_weighted['Optimized MLP'] = f1_score(test_labels, preds, average='weighted')\n",
    "eeg_conf['Optimized MLP'] = confusion_matrix(test_labels, preds)\n",
    "print \"~~~Optimized MLP\"\n",
    "print classification_report(test_labels, preds)\n",
    "print \"f1_macro:    \",f1_score(test_labels, preds, average='macro')\n",
    "print \"f1_weighted: \",f1_score(test_labels, preds, average='weighted')\n",
    "print \"\\n Confusion Matrix: \\n\",confusion_matrix(test_labels, preds)\n",
    "eeg_time['Optimized MLP']= stop - start\n",
    "print \"\\n Running Time:\",stop - start,\"secs\" "
   ]
  },
  {
   "cell_type": "code",
   "execution_count": 15,
   "metadata": {},
   "outputs": [
    {
     "name": "stdout",
     "output_type": "stream",
     "text": [
      "Pipeline(memory='tmp',\n",
      "     steps=[('selector', VarianceThreshold(threshold=0.0)), ('scaler', StandardScaler(copy=True, with_mean=True, with_std=True)), ('sampler', RandomOverSampler(random_state=None, ratio='auto')), ('kNN', KNeighborsClassifier(algorithm='auto', leaf_size=30, metric='minkowski',\n",
      "           metric_params=None, n_jobs=-1, n_neighbors=1, p=2,\n",
      "           weights='uniform'))])\n"
     ]
    }
   ],
   "source": [
    "print estimator.best_estimator_"
   ]
  },
  {
   "cell_type": "code",
   "execution_count": 16,
   "metadata": {},
   "outputs": [
    {
     "name": "stdout",
     "output_type": "stream",
     "text": [
      "             F1 Macro Scores\n"
     ]
    },
    {
     "data": {
      "image/png": "[encoded data removed]",
      "text/plain": [
       "<matplotlib.figure.Figure at 0x7f0beb658550>"
      ]
     },
     "metadata": {},
     "output_type": "display_data"
    },
    {
     "name": "stdout",
     "output_type": "stream",
     "text": [
      "             F1 Weighted Scores\n"
     ]
    },
    {
     "data": {
      "image/png": "[encoded data removed]",
      "text/plain": [
       "<matplotlib.figure.Figure at 0x7f0beb42c8d0>"
      ]
     },
     "metadata": {},
     "output_type": "display_data"
    },
    {
     "name": "stdout",
     "output_type": "stream",
     "text": [
      "             Running Time (secs)\n"
     ]
    },
    {
     "data": {
      "image/png": "[encoded data removed]",
      "text/plain": [
       "<matplotlib.figure.Figure at 0x7f0be8193110>"
      ]
     },
     "metadata": {},
     "output_type": "display_data"
    }
   ],
   "source": [
    "plt.bar(range(len(eeg_macro)), eeg_macro.values(), align='center')\n",
    "plt.xticks(range(len(eeg_macro)), eeg_macro.keys(), rotation=90)\n",
    "print \"             F1 Macro Scores\"\n",
    "plt.show()\n",
    "\n",
    "plt.bar(range(len(eeg_weighted)), eeg_weighted.values(), align='center')\n",
    "plt.xticks(range(len(eeg_weighted)), eeg_weighted.keys(), rotation=90)\n",
    "print \"             F1 Weighted Scores\"\n",
    "plt.show()\n",
    "\n",
    "plt.bar(range(len(eeg_time)), eeg_time.values(), align='center')\n",
    "plt.xticks(range(len(eeg_time)), eeg_time.keys(), rotation=90)\n",
    "print \"             Running Time (secs)\"\n",
    "plt.show()"
   ]
  },
  {
   "cell_type": "code",
   "execution_count": 17,
   "metadata": {},
   "outputs": [
    {
     "name": "stdout",
     "output_type": "stream",
     "text": [
      "kNN Optimization Percentage (macro)    : 1.77616901194 %\n",
      "kNN Optimization Percentage (weighted) : 1.7757785998 %\n",
      "\n",
      "\n"
     ]
    }
   ],
   "source": [
    "print \"kNN Optimization Percentage (macro)    :\",(eeg_macro['Optimized kNN']-eeg_macro['Default kNN'])/eeg_macro['Default kNN']*100,\"%\"\n",
    "print \"kNN Optimization Percentage (weighted) :\",(eeg_weighted['Optimized kNN']-eeg_weighted['Default kNN'])/eeg_macro['Default kNN']*100,\"%\"\n",
    "print \"\\n\"\n",
    "print \"MLP Optimization Percentage (macro)    :\",(eeg_macro['Optimized MLP']-eeg_macro['Default MLP'])/eeg_macro['Default MLP']*100,\"%\"\n",
    "print \"MLP Optimization Percentage (weighted) :\",(eeg_weighted['Optimized MLP']-eeg_weighted['Default MLP'])/eeg_macro['Default MLP']*100,\"%\""
   ]
  },
  {
   "cell_type": "markdown",
   "metadata": {},
   "source": [
    "#### Σχολιασμός Αποτελεσμάτων"
   ]
  },
  {
   "cell_type": "markdown",
   "metadata": {},
   "source": [
    "Παραπάνω φαίνονται τα αποτελέσματα για όλους τους classifiers, δηλαδή τους dummy, τον Gaussian Naive Bayes, τον kNN και τον MLP. Όπως φαίνεται, ο kNN είναι ο καλύτερος ταξινομητής και στις 2 μετρικές απόδοσης που χρησιμοποιούμε (F1 Macro Scores και F1 Weighted Scores). Ανάμεσα στις 2 μετρικές δεν παρατηρούμε σχεδόν καθόλου διαφορές. Από τους dummy ταξινομητές, ο uniform(random) είναι ο καλύτερος και αμέσως μετά βρίσκεται ο stratified. Φυσικά, όπως και στο πρώτο notebook, αυτό δεν μας βοηθάει να βγάλουμε σημαντικά συμπεράσματα αφού αυτοί οι classifiers είναι dummy. Εδώ πρέπει να πούμε πως και ο Gaussian Naive Bayes είναι πολύ “κακός” στις προβλέψεις του, κάτι που φαίνεται και από τον Confusion Matrix. Σε αυτό το dataset μάλιστα φαίνεται να βρίσκεται πολύ κοντά (ακόμα και χαμηλότερα) στους dummy classifiers, γεγονός που τον καθιστά “άχρηστο” για την μελέτη μας.\n",
    "\n",
    "Οι ταξινομητές που μας ενδιαφέρουν πραγματικά είναι ο kNN και ο MLP και φυσικά οι Optimized versions αυτών. Κοιτώντας τα στατιστικά τους αποτελέσματα βλέπουμε ότι ο kNN είναι ο καλύτερος classifier και όπως είναι λογικό, οι Optimized υλοποιήσεις των 2 ταξινομητών δίνουν ελαφρώς καλύτερα αποτελέσματα. Αυτό φαίνεται και στα ποσοστά αλλά και στον πίνακα του Confusion Matrix όπου μπορούμε να δούμε τα ακριβή λάθη που κάνει κάθε ταξινομητής.\n",
    "\n",
    "Τέλος, συγκρίνοντας τους χρόνους εκτέλεσης των ταξινομητών βλέπουμε πως όπως είναι λογικό πως αυτοί των dummy classifiers καθώς και του Gaussian είναι σχεδόν μηδενικοί. Αντίθετα, οι άλλοι 2 ταξινομητές αργούν πάρα πολύ γιατί ο estimator του GridSearchCV δοκιμάζει όλους τους classifiers για κάθε πιθανό συνδιασμό υπερ-παραμέτρων. Μάλιστα φαίνεται και η σημαντική διαφορά σε χρόνο μεταξύ των default και των optimized υλοποιήσεων η οποία είναι λογική λόγω της λειτουργίας GridSearchCV που μόλις περιγράψαμε. "
   ]
  },
  {
   "cell_type": "code",
   "execution_count": null,
   "metadata": {},
   "outputs": [],
   "source": []
  }
 ],
 "metadata": {
  "kernelspec": {
   "display_name": "Python 3",
   "language": "python",
   "name": "python3"
  },
  "language_info": {
   "codemirror_mode": {
    "name": "ipython",
    "version": 3
   },
   "file_extension": ".py",
   "mimetype": "text/x-python",
   "name": "python",
   "nbconvert_exporter": "python",
   "pygments_lexer": "ipython3",
   "version": "3.7.0"
  }
 },
 "nbformat": 4,
 "nbformat_minor": 1
}
